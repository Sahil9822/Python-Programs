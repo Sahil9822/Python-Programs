{
 "cells": [
  {
   "cell_type": "code",
   "execution_count": 1,
   "id": "f8629aab",
   "metadata": {},
   "outputs": [],
   "source": [
    "from currency_converter import CurrencyConverter\n",
    "import tkinter as tk\n",
    "a = CurrencyConverter()\n",
    "\n",
    "window = tk.Tk()\n",
    "window.geometry(\"1000x500\")\n",
    "\n",
    "def clicked():\n",
    "    amount = int(e1.get())\n",
    "    cur1 = e2.get()\n",
    "    cur2 = e3.get()\n",
    "    data = a.convert(amount,cur1, cur2)\n",
    "    l5 = tk.Label(window,text = data).place(x = 450, y = 290)\n",
    "\n",
    "l1 = tk.Label(window,text =\"Currency Converter\", font = \"Times 25 bold\").place(x = 333, y = 30)\n",
    "l2 = tk.Label(window,text =\"Enter Amount Here :\", font = \"Times 18 bold\").place(x = 250, y = 80)\n",
    "e1 = tk.Entry(window)\n",
    "l3 = tk.Label(window,text =\"Enter Currency :\", font = \"Times 18 bold\").place(x = 250, y = 130)\n",
    "e2 = tk.Entry(window)\n",
    "l4 = tk.Label(window,text =\"Enter Require Currency :\", font = \"Times 18 bold\").place(x = 250, y = 180)\n",
    "e3 = tk.Entry(window)\n",
    "b1 = tk.Button(window,text = \"Click\", command = clicked, font = \"Times 15 bold\").place(x = 450, y = 240)\n",
    "e1.place(x = 600, y = 90)\n",
    "e2.place(x = 600, y = 140)\n",
    "e3.place(x = 600, y = 190)\n",
    "window.mainloop()\n",
    "\n"
   ]
  },
  {
   "cell_type": "code",
   "execution_count": null,
   "id": "4677d66b",
   "metadata": {},
   "outputs": [],
   "source": []
  }
 ],
 "metadata": {
  "kernelspec": {
   "display_name": "Python 3 (ipykernel)",
   "language": "python",
   "name": "python3"
  },
  "language_info": {
   "codemirror_mode": {
    "name": "ipython",
    "version": 3
   },
   "file_extension": ".py",
   "mimetype": "text/x-python",
   "name": "python",
   "nbconvert_exporter": "python",
   "pygments_lexer": "ipython3",
   "version": "3.9.13"
  }
 },
 "nbformat": 4,
 "nbformat_minor": 5
}
